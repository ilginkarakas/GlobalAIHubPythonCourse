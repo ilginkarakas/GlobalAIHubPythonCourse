{
  "nbformat": 4,
  "nbformat_minor": 0,
  "metadata": {
    "colab": {
      "name": "FinalProject.ipynb",
      "provenance": [],
      "collapsed_sections": [],
      "include_colab_link": true
    },
    "kernelspec": {
      "name": "python3",
      "display_name": "Python 3"
    }
  },
  "cells": [
    {
      "cell_type": "markdown",
      "metadata": {
        "id": "view-in-github",
        "colab_type": "text"
      },
      "source": [
        "<a href=\"https://colab.research.google.com/github/ilginkarakas/GlobalAIHubPythonCourse/blob/master/FinalProject.ipynb\" target=\"_parent\"><img src=\"https://colab.research.google.com/assets/colab-badge.svg\" alt=\"Open In Colab\"/></a>"
      ]
    },
    {
      "cell_type": "code",
      "metadata": {
        "colab": {
          "base_uri": "https://localhost:8080/"
        },
        "id": "gdZvjDP84d38",
        "outputId": "6b773199-5964-4315-b53b-3822d2fefa9d"
      },
      "source": [
        "# Our employees\n",
        "class Employee:\n",
        "  def __init__(self, id ,name, age, language):\n",
        "    self.id = id\n",
        "    self.name = name\n",
        "    self.age = age\n",
        "    self.language = language\t\n",
        "\n",
        "  def myfunc(self):\n",
        "    print(self.name) \n",
        "    print(self.age)\n",
        "    print(self.language)\n",
        "\n",
        "class Manager:\n",
        "  def __init__(self ,name, age, language):\n",
        "    self.name = name\n",
        "    self.age = age\n",
        "    self.language = language\t\n",
        "\n",
        "  def myfunc2(self):\n",
        "    print(self.name) \n",
        "    print(self.age)\n",
        "    print(self.language)\n",
        "\n",
        "employees = []\n",
        "employees.append(Employee(1,\"Kawamoto Mitsuo\",19,\"Japanese\"))\n",
        "employees.append(Employee(2,\"Sabine Plank\",21,\"German\"))\n",
        "employees.append(Employee(3,\"Tristan Clement\",23,\"French\"))\n",
        "employees.append(Employee(4,\"Güney Gökmen\",18,\"Turkish\"))\n",
        "employees.append(Employee(5,\"Joseph Barrett\",27,\"English\"))\n",
        "\n",
        "managers = []\n",
        "managers.append(Manager(\"John Garriot\",38, \"Armenian and English\"))\n",
        "managers.append(Manager(\"Asya Başak\",27, \"Turkish and French\"))\n",
        "\n",
        "\"\" \"Select from the list\" \"\"\n",
        "def chocieFunc():\n",
        "  print(\"-\" * 30)\n",
        "  print(\"1. See all employee information.\")\n",
        "  print(\"2. Quit\")\n",
        "  print(\"-\" * 30)\n",
        "\n",
        "def getAllEmps():\n",
        "  languages = {}\n",
        "\n",
        "  for employee in employees:\n",
        "    # print information\n",
        "    employee.myfunc()\n",
        "    print(\"-\" * 30)\n",
        "\n",
        "    # collect data\n",
        "    languages[employee.language] = \"\"\n",
        "\n",
        "  print(\" They can speak \" + ', '.join(languages.keys()))\n",
        "\n",
        "print(\"  Company Management System / Employees' Information \")\n",
        "while True:\n",
        "  chocieFunc()\n",
        "  num = int(input(\" YOU CLICKED :\"))\n",
        "  if num == 1:\n",
        "    getAllEmps()\n",
        "  elif num == 2:\n",
        "    print(\"GOODBYE\")\n",
        "    break\n",
        "  else:\n",
        "    print(\"OOPS!SOMETHINGS WRONG.WRITE AGAIN.\")      "
      ],
      "execution_count": 81,
      "outputs": [
        {
          "output_type": "stream",
          "text": [
            "  Company Management System / Employees' Information \n",
            "------------------------------\n",
            "1. See all employee information.\n",
            "2. Quit\n",
            "------------------------------\n",
            " YOU CLICKED :1\n",
            "Kawamoto Mitsuo\n",
            "19\n",
            "Japanese\n",
            "------------------------------\n",
            "Sabine Plank\n",
            "21\n",
            "German\n",
            "------------------------------\n",
            "Tristan Clement\n",
            "23\n",
            "French\n",
            "------------------------------\n",
            "Güney Gökmen\n",
            "18\n",
            "Turkish\n",
            "------------------------------\n",
            "Joseph Barrett\n",
            "27\n",
            "English\n",
            "------------------------------\n",
            " They can speak Japanese, German, French, Turkish, English\n",
            "------------------------------\n",
            "1. See all employee information.\n",
            "2. Quit\n",
            "------------------------------\n",
            " YOU CLICKED :3\n",
            "OOPS!SOMETHINGS WRONG.WRITE AGAIN.\n",
            "------------------------------\n",
            "1. See all employee information.\n",
            "2. Quit\n",
            "------------------------------\n",
            " YOU CLICKED :2\n",
            "GOODBYE\n"
          ],
          "name": "stdout"
        }
      ]
    }
  ]
}