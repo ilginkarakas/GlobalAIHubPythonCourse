{
  "nbformat": 4,
  "nbformat_minor": 0,
  "metadata": {
    "colab": {
      "name": "HomeworkdDay4.ipynb",
      "provenance": [],
      "authorship_tag": "ABX9TyNWYX4mpn4rkAhEfvi9HTip",
      "include_colab_link": true
    },
    "kernelspec": {
      "name": "python3",
      "display_name": "Python 3"
    }
  },
  "cells": [
    {
      "cell_type": "markdown",
      "metadata": {
        "id": "view-in-github",
        "colab_type": "text"
      },
      "source": [
        "<a href=\"https://colab.research.google.com/github/ilginkarakas/GlobalAIHubPythonCourse/blob/master/HomeworkdDay4.ipynb\" target=\"_parent\"><img src=\"https://colab.research.google.com/assets/colab-badge.svg\" alt=\"Open In Colab\"/></a>"
      ]
    },
    {
      "cell_type": "code",
      "metadata": {
        "colab": {
          "base_uri": "https://localhost:8080/"
        },
        "id": "8Aj1oXI-MlXj",
        "outputId": "3946ff43-7f8e-4d81-b6b5-eeb4b08c3eab"
      },
      "source": [
        "#Finding prime numbers between the 0 and 100.\n",
        "\n",
        "\n",
        "#Write the range\n",
        "start = 0\n",
        "end =100\n",
        "\n",
        "print(\"Prime numbers between\",0,\"and\",100)\n",
        "for num in range(start, end + 1):\n",
        "   # note that : all prime numbers are greater than 1\n",
        "   \n",
        "   if num > 1:\n",
        "  #Don't forget 2 as a prime number.\n",
        "       for i in range(2, num):\n",
        "           if (num % i) == 0:\n",
        "               break\n",
        "       else:\n",
        "           print(num)\n"
      ],
      "execution_count": 2,
      "outputs": [
        {
          "output_type": "stream",
          "text": [
            "Prime numbers between 0 and 100\n",
            "2\n",
            "3\n",
            "5\n",
            "7\n",
            "11\n",
            "13\n",
            "17\n",
            "19\n",
            "23\n",
            "29\n",
            "31\n",
            "37\n",
            "41\n",
            "43\n",
            "47\n",
            "53\n",
            "59\n",
            "61\n",
            "67\n",
            "71\n",
            "73\n",
            "79\n",
            "83\n",
            "89\n",
            "97\n"
          ],
          "name": "stdout"
        }
      ]
    }
  ]
}