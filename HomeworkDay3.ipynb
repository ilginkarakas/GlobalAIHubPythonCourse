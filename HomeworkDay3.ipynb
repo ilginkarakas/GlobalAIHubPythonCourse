{
  "nbformat": 4,
  "nbformat_minor": 0,
  "metadata": {
    "colab": {
      "name": "HomeworkDay3.ipynb",
      "provenance": [],
      "authorship_tag": "ABX9TyMoSTp3gRM3Jklw9+l38uIK",
      "include_colab_link": true
    },
    "kernelspec": {
      "name": "python3",
      "display_name": "Python 3"
    }
  },
  "cells": [
    {
      "cell_type": "markdown",
      "metadata": {
        "id": "view-in-github",
        "colab_type": "text"
      },
      "source": [
        "<a href=\"https://colab.research.google.com/github/ilginkarakas/GlobalAIHubPythonCourse/blob/master/HomeworkDay3.ipynb\" target=\"_parent\"><img src=\"https://colab.research.google.com/assets/colab-badge.svg\" alt=\"Open In Colab\"/></a>"
      ]
    },
    {
      "cell_type": "code",
      "metadata": {
        "colab": {
          "base_uri": "https://localhost:8080/"
        },
        "id": "WL6rxMUpDyQr",
        "outputId": "27bdb07a-f8c2-4033-876c-bcc894374006"
      },
      "source": [
        "#Question1\n",
        "\n",
        "#Enter the username and password\n",
        "print(\"Write your username and password\")\n",
        "count = 0\n",
        "\n",
        "password = \"\"\n",
        "username = \"\"\n",
        "\n",
        "#Log in information\n",
        "while password!='12345' and username!='admin' and count < 3:\n",
        "    username = input(\"Enter your username: \")\n",
        "    password = input(\"Enter the password: \")\n",
        "\n",
        "    #True match\n",
        "    if password=='12345' and username=='admin':\n",
        "     print('WELCOME!',username)\n",
        "     break\n",
        "\n",
        "    #Didn't match\n",
        "    else:\n",
        "        print('CHECK YOUR PASSWORD OR USERNAME')\n",
        "        count+=1    \n"
      ],
      "execution_count": 3,
      "outputs": [
        {
          "output_type": "stream",
          "text": [
            "Write your username and password\n",
            "Enter your username: Aaisha\n",
            "Enter the password: 1413231\n",
            "CHECK YOUR PASSWORD OR USERNAME\n",
            "Enter your username: admin\n",
            "Enter the password: 12345\n",
            "WELCOME! admin\n"
          ],
          "name": "stdout"
        }
      ]
    },
    {
      "cell_type": "code",
      "metadata": {
        "colab": {
          "base_uri": "https://localhost:8080/"
        },
        "id": "kL504NspEHZm",
        "outputId": "1918af04-bd06-476a-f925-d9b7e79cda04"
      },
      "source": [
        "#Extra1\n",
        "\n",
        "\n",
        "def usernameAndPassword():\n",
        "  dict={\"isCorrect\":False,\"username\":\"admin\",\"password\":\"654321\"}  \n",
        "  while dict[\"isCorrect\"] == False:\n",
        "    username_input=input(\"Enter your username\")\n",
        "    password_input=input(\"Password\")\n",
        "    if(dict[\"username\"] == username_input and dict[\"password\"] == password_input ):\n",
        "      dict[\"isCorrect\"]=True\n",
        "      print(\"WELCOME AGAIN\",admin)\n",
        "    elif (dict[\"username\"] == username_input and dict[\"password\"] != password_input):\n",
        "      print(\"TRY AGAIN... SOMETHING SEEMS WRONG...\")\n",
        "    elif (dict[\"username\"] != username_input and dict[\"password\"] == password_input):\n",
        "      print(\"TRY AGAIN... SOMETHING SEEMS WRONG...\")\n",
        "    else:\n",
        "      print(\"TRY AGAIN... SOMETHING SEEMS WRONG...\")\n",
        "usernameAndPassword()"
      ],
      "execution_count": 22,
      "outputs": [
        {
          "output_type": "stream",
          "text": [
            "Enter your usernameViolet\n",
            "Passwordf98j4f984\n",
            "TRY AGAIN... SOMETHING SEEMS WRONG...\n",
            "Enter your usernameadmin\n",
            "Passwordj894jf8\n",
            "TRY AGAIN... SOMETHING SEEMS WRONG...\n",
            "Enter your usernameadmin\n",
            "Password654321\n",
            "WELCOME AGAIN username\n"
          ],
          "name": "stdout"
        }
      ]
    }
  ]
}