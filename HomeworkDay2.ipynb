{
  "nbformat": 4,
  "nbformat_minor": 0,
  "metadata": {
    "colab": {
      "name": "HW2.ipynb",
      "provenance": [],
      "authorship_tag": "ABX9TyNyZsUdnVlSJ7wvq2sLGez/",
      "include_colab_link": true
    },
    "kernelspec": {
      "name": "python3",
      "display_name": "Python 3"
    }
  },
  "cells": [
    {
      "cell_type": "markdown",
      "metadata": {
        "id": "view-in-github",
        "colab_type": "text"
      },
      "source": [
        "<a href=\"https://colab.research.google.com/github/ilginkarakas/GlobalAIHubPythonCourse/blob/master/HomeworkDay2.ipynb\" target=\"_parent\"><img src=\"https://colab.research.google.com/assets/colab-badge.svg\" alt=\"Open In Colab\"/></a>"
      ]
    },
    {
      "cell_type": "code",
      "metadata": {
        "colab": {
          "base_uri": "https://localhost:8080/"
        },
        "id": "GI8FKXAIj2DM",
        "outputId": "baeb6a23-a371-4871-cd2c-bf2be4fe0f78"
      },
      "source": [
        "#Question1\n",
        "myList=[1,2,3,4,5,6,10,13,23,46,53,56]\n",
        "\n",
        "def SwapHalfList(myList):\n",
        "    S1=0\n",
        "    S2=0\n",
        "    L=len(myList)\n",
        "    for i in range (L//2):\n",
        "         S1 = S1+ myList[i]\n",
        "    for i in range (L//2,L):\n",
        "         S2 = S2+ myList[i] \n",
        "    for i in range (L//2):\n",
        "\n",
        "      myList[i], myList[L//2+i]= myList[L//2+i], myList[i]\n",
        "           \n",
        "\n",
        "SwapHalfList(myList)\n",
        "\n",
        "\n",
        "print(myList)\n",
        "\n",
        "\n"
      ],
      "execution_count": 45,
      "outputs": [
        {
          "output_type": "stream",
          "text": [
            "[10, 13, 23, 46, 53, 56, 1, 2, 3, 4, 5, 6]\n"
          ],
          "name": "stdout"
        }
      ]
    },
    {
      "cell_type": "code",
      "metadata": {
        "colab": {
          "base_uri": "https://localhost:8080/"
        },
        "id": "LiYbtlJIl7r9",
        "outputId": "5b6c9d70-31fd-4afb-b4e3-1a5c0e06f7fb"
      },
      "source": [
        "#Question2\n",
        "\n",
        "# Print even numbers in given range and enter the input\n",
        "n =int(input(\"Input an integer : \"))\n",
        "start,end = 0, n\n",
        "\n",
        "# iterating each number in list \n",
        "\n",
        "for num in range(start, end+1 ):  \n",
        "    if num % 2 == 0: \n",
        "        print(num, end = \" \") \n",
        "   \n",
        "\n",
        "\n"
      ],
      "execution_count": 43,
      "outputs": [
        {
          "output_type": "stream",
          "text": [
            "Input an integer : 9\n",
            "0 2 4 6 8 "
          ],
          "name": "stdout"
        }
      ]
    }
  ]
}